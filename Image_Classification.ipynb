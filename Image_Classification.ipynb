{
  "nbformat": 4,
  "nbformat_minor": 0,
  "metadata": {
    "colab": {
      "provenance": [],
      "authorship_tag": "ABX9TyMTie8BI3Uch6Ptt2r+SwSv",
      "include_colab_link": true
    },
    "kernelspec": {
      "name": "python3",
      "display_name": "Python 3"
    },
    "language_info": {
      "name": "python"
    }
  },
  "cells": [
    {
      "cell_type": "markdown",
      "metadata": {
        "id": "view-in-github",
        "colab_type": "text"
      },
      "source": [
        "<a href=\"https://colab.research.google.com/github/Roy72/1998/blob/main/Image_Classification.ipynb\" target=\"_parent\"><img src=\"https://colab.research.google.com/assets/colab-badge.svg\" alt=\"Open In Colab\"/></a>"
      ]
    },
    {
      "cell_type": "code",
      "execution_count": 1,
      "metadata": {
        "id": "ul7DwFTWKm0r"
      },
      "outputs": [],
      "source": [
        "#Import Libraries\n",
        "import tensorflow as tf\n",
        "import numpy as np\n",
        "import pandas as pd\n",
        "import cv2\n",
        "import os\n",
        "import tqdm, time\n",
        "\n",
        "import glob\n",
        "import random,time\n",
        "\n",
        "import math\n",
        "\n",
        "from functools import partial\n",
        "\n",
        "from tensorflow import keras\n",
        "from tensorflow.keras import layers\n",
        "from tensorflow.keras.layers import *\n",
        "from tensorflow.keras.models import *\n",
        "from tensorflow.keras.callbacks import *\n",
        "from tensorflow.keras import backend as K\n",
        "from tensorflow.keras.utils import *\n",
        "from tensorflow.keras.regularizers import *\n",
        "import matplotlib.pyplot as plt"
      ]
    },
    {
      "cell_type": "markdown",
      "source": [
        "#Loading CIFAR10 Dataset"
      ],
      "metadata": {
        "id": "jX2ICZs8K3G5"
      }
    },
    {
      "cell_type": "code",
      "source": [
        "\n",
        " (x_train, y_train), (x_test, y_test) = keras.datasets.cifar10.load_data()\n",
        "\n",
        "val_split = 0.1\n",
        "\n",
        "val_indices = int(len(x_train) * val_split)\n",
        "\n",
        "new_x_train, new_y_train = x_train[val_indices:], y_train[val_indices:]\n",
        "\n",
        "\n",
        "x_val, y_val = x_train[:val_indices], y_train[:val_indices]\n",
        "\n",
        "\n",
        "print(f\"Training data samples: {len(new_x_train)}\")\n",
        "print(f\"Validation data samples: {len(x_val)}\")\n",
        "print(f\"Test data samples: {len(x_test)}\")"
      ],
      "metadata": {
        "colab": {
          "base_uri": "https://localhost:8080/"
        },
        "id": "qB7JoyRsKvm5",
        "outputId": "d5d26c6a-ae35-448e-d23a-35181beb26d6"
      },
      "execution_count": 2,
      "outputs": [
        {
          "output_type": "stream",
          "name": "stdout",
          "text": [
            "Downloading data from https://www.cs.toronto.edu/~kriz/cifar-10-python.tar.gz\n",
            "170498071/170498071 [==============================] - 4s 0us/step\n",
            "Training data samples: 45000\n",
            "Validation data samples: 5000\n",
            "Test data samples: 10000\n"
          ]
        }
      ]
    },
    {
      "cell_type": "markdown",
      "source": [
        "Normalization"
      ],
      "metadata": {
        "id": "mqqx1W93LMu3"
      }
    },
    {
      "cell_type": "code",
      "source": [
        "new_x_train_nor = new_x_train/255\n",
        "x_val_nor  = x_val/255\n",
        "x_test_nor = x_test/255"
      ],
      "metadata": {
        "id": "lI5oZJD9LDOK"
      },
      "execution_count": 3,
      "outputs": []
    },
    {
      "cell_type": "markdown",
      "source": [
        "Label preparation"
      ],
      "metadata": {
        "id": "-Wl2VjuVLR0I"
      }
    },
    {
      "cell_type": "code",
      "source": [
        "from keras.src.utils.np_utils import to_categorical\n",
        "total_class = len(np.unique(new_y_train))\n",
        "\n",
        "new_y_train_hot = to_categorical( new_y_train, total_class)\n",
        "\n",
        "y_val_hot  = to_categorical( y_val, total_class)\n",
        "\n",
        "y_test_hot = to_categorical( y_test, total_class)\n"
      ],
      "metadata": {
        "id": "OKIhVK7BLU-G"
      },
      "execution_count": 4,
      "outputs": []
    },
    {
      "cell_type": "markdown",
      "source": [
        "Create random Index"
      ],
      "metadata": {
        "id": "b7tDrolRLYh2"
      }
    },
    {
      "cell_type": "code",
      "source": [
        "indx = [i for i in range(0, len(new_x_train_nor))]\n",
        "\n",
        "random.shuffle(indx)"
      ],
      "metadata": {
        "id": "UN8Aq3ghLcVB"
      },
      "execution_count": 5,
      "outputs": []
    },
    {
      "cell_type": "markdown",
      "source": [],
      "metadata": {
        "id": "erJW-8goLmSf"
      }
    },
    {
      "cell_type": "code",
      "source": [
        "new_y_train_hot_1 =  []\n",
        "new_x_train_nor_1 = []\n",
        "\n",
        "small_f = 5000 # allocated length of the dataset\n",
        "for i in range(small_f):\n",
        "  new_x_train_nor_1.append(new_x_train_nor[indx[i]] )\n",
        "  new_y_train_hot_1.append(new_y_train_hot[indx[i]] )\n",
        "\n",
        "\n",
        "new_y_train_hot_1 = np.array(new_y_train_hot_1)\n",
        "new_x_train_nor_1 = np.array(new_x_train_nor_1)"
      ],
      "metadata": {
        "id": "4Uj0En4QLlrG"
      },
      "execution_count": 6,
      "outputs": []
    },
    {
      "cell_type": "code",
      "source": [
        "batch_size = 32\n",
        "auto = tf.data.AUTOTUNE\n",
        "\n",
        "def make_datasets(images, labels):\n",
        "    dataset = tf.data.Dataset.from_tensor_slices((images, labels))\n",
        "\n",
        "    dataset = dataset.shuffle(50000)\n",
        "    dataset = dataset.batch(batch_size)\n",
        "    return dataset.prefetch(auto)\n",
        "\n",
        "train_set =   make_datasets(new_x_train_nor_1, new_y_train_hot_1)\n",
        "val_set =   make_datasets(x_val_nor, y_val_hot)\n",
        "test_set =  make_datasets(x_test_nor, y_test_hot )"
      ],
      "metadata": {
        "id": "SGnn7jhAL0fp"
      },
      "execution_count": 7,
      "outputs": []
    },
    {
      "cell_type": "code",
      "source": [
        "str_1,str_2 = next(iter(train_set))\n",
        "stv_1,stv_2 = next(iter(val_set))\n",
        "sts_1,sts_2 = next(iter(test_set))\n",
        "\n",
        "\n",
        "print('train, val, test batches', str_1.shape,str_2.shape,stv_1.shape,stv_2.shape,sts_1.shape,sts_2.shape )"
      ],
      "metadata": {
        "colab": {
          "base_uri": "https://localhost:8080/"
        },
        "id": "GtfYojTzMHwc",
        "outputId": "07999748-347d-4428-8461-c51e5c3debe4"
      },
      "execution_count": 8,
      "outputs": [
        {
          "output_type": "stream",
          "name": "stdout",
          "text": [
            "train, val, test batches (32, 32, 32, 3) (32, 10) (32, 32, 32, 3) (32, 10) (32, 32, 32, 3) (32, 10)\n"
          ]
        }
      ]
    },
    {
      "cell_type": "code",
      "source": [
        "filter1=24\n",
        "filter2=36\n",
        "filter3=48\n",
        "filter4=64\n",
        "kernel_size=3\n",
        "dropout = 0.50\n",
        "\n",
        "inputs = Input(shape=(32, 32, 3))\n",
        "\n",
        "y = Conv2D(filters=filter1,kernel_size=kernel_size,activation='relu', padding='same', kernel_initializer='he_normal')(inputs)\n",
        "y = MaxPooling2D()(y)\n",
        "#y=BatchNormalization()(y)\n",
        "\n",
        "y = Conv2D(filters=filter2,kernel_size=kernel_size,activation='relu', padding='same', kernel_initializer='he_normal')(y)\n",
        "y = MaxPooling2D()(y)\n",
        "#y=BatchNormalization()(y)\n",
        "\n",
        "\n",
        "y = Conv2D(filters=filter3,kernel_size=kernel_size,activation='relu', padding='same', kernel_initializer='he_normal')(y)\n",
        "y = MaxPooling2D()(y)\n",
        "#y=BatchNormalization()(y)\n",
        "\n",
        "\n",
        "#y = Conv2D(filters=filter4,kernel_size=kernel_size,activation='relu', padding='same', kernel_initializer='he_normal')(y)\n",
        "y=BatchNormalization()(y)\n",
        "\n",
        "y = Flatten()(y)\n",
        "\n",
        "y = Dropout(dropout)(y)\n",
        "outputs = Dense(10, activation='softmax')(y)\n",
        "\n",
        "\n",
        "model = Model(inputs=inputs, outputs=outputs)\n",
        "\n"
      ],
      "metadata": {
        "id": "MrqBawqqNC9X"
      },
      "execution_count": 33,
      "outputs": []
    },
    {
      "cell_type": "code",
      "source": [
        " #lr_schedule = keras.optimizers.schedules.ExponentialDecay(3e-6, decay_steps=6, decay_rate=0.7)\n",
        " #optima = tf.keras.optimizers.Adam(learning_rate=lr_schedule,clipnorm =1.0)\n",
        "\n",
        "model.compile(optimizer='adam',loss=\"categorical_crossentropy\", metrics=[\"accuracy\"],)"
      ],
      "metadata": {
        "id": "xC8kLIgnMfCx"
      },
      "execution_count": 34,
      "outputs": []
    },
    {
      "cell_type": "code",
      "source": [
        "history = model.fit(train_set,validation_data=val_set,epochs=50,)"
      ],
      "metadata": {
        "colab": {
          "base_uri": "https://localhost:8080/"
        },
        "id": "mNhy2S75MlQ6",
        "outputId": "a9f5eeda-b5f0-4f85-9868-1e4828d75457"
      },
      "execution_count": 35,
      "outputs": [
        {
          "output_type": "stream",
          "name": "stdout",
          "text": [
            "Epoch 1/50\n",
            "157/157 [==============================] - 10s 54ms/step - loss: 2.4207 - accuracy: 0.2290 - val_loss: 2.0585 - val_accuracy: 0.2770\n",
            "Epoch 2/50\n",
            "157/157 [==============================] - 8s 53ms/step - loss: 1.9229 - accuracy: 0.3248 - val_loss: 1.7637 - val_accuracy: 0.3650\n",
            "Epoch 3/50\n",
            "157/157 [==============================] - 8s 54ms/step - loss: 1.7142 - accuracy: 0.3868 - val_loss: 2.0336 - val_accuracy: 0.3104\n",
            "Epoch 4/50\n",
            "157/157 [==============================] - 9s 56ms/step - loss: 1.5762 - accuracy: 0.4308 - val_loss: 1.4724 - val_accuracy: 0.4864\n",
            "Epoch 5/50\n",
            "157/157 [==============================] - 9s 55ms/step - loss: 1.4663 - accuracy: 0.4682 - val_loss: 1.5144 - val_accuracy: 0.4446\n",
            "Epoch 6/50\n",
            "157/157 [==============================] - 8s 53ms/step - loss: 1.4192 - accuracy: 0.4902 - val_loss: 1.3384 - val_accuracy: 0.5184\n",
            "Epoch 7/50\n",
            "157/157 [==============================] - 8s 48ms/step - loss: 1.3633 - accuracy: 0.5102 - val_loss: 1.3768 - val_accuracy: 0.5076\n",
            "Epoch 8/50\n",
            "157/157 [==============================] - 8s 54ms/step - loss: 1.2833 - accuracy: 0.5312 - val_loss: 1.3221 - val_accuracy: 0.5250\n",
            "Epoch 9/50\n",
            "157/157 [==============================] - 10s 61ms/step - loss: 1.2531 - accuracy: 0.5550 - val_loss: 1.3145 - val_accuracy: 0.5184\n",
            "Epoch 10/50\n",
            "157/157 [==============================] - 9s 59ms/step - loss: 1.1913 - accuracy: 0.5702 - val_loss: 1.4513 - val_accuracy: 0.4974\n",
            "Epoch 11/50\n",
            "157/157 [==============================] - 8s 53ms/step - loss: 1.1713 - accuracy: 0.5816 - val_loss: 1.3860 - val_accuracy: 0.5200\n",
            "Epoch 12/50\n",
            "157/157 [==============================] - 8s 53ms/step - loss: 1.1246 - accuracy: 0.5976 - val_loss: 1.2834 - val_accuracy: 0.5374\n",
            "Epoch 13/50\n",
            "157/157 [==============================] - 9s 56ms/step - loss: 1.1156 - accuracy: 0.6028 - val_loss: 1.3537 - val_accuracy: 0.5388\n",
            "Epoch 14/50\n",
            "157/157 [==============================] - 10s 61ms/step - loss: 1.0668 - accuracy: 0.6120 - val_loss: 1.2720 - val_accuracy: 0.5490\n",
            "Epoch 15/50\n",
            "157/157 [==============================] - 9s 55ms/step - loss: 1.0280 - accuracy: 0.6220 - val_loss: 1.2589 - val_accuracy: 0.5618\n",
            "Epoch 16/50\n",
            "157/157 [==============================] - 7s 47ms/step - loss: 1.0391 - accuracy: 0.6362 - val_loss: 1.3017 - val_accuracy: 0.5496\n",
            "Epoch 17/50\n",
            "157/157 [==============================] - 8s 53ms/step - loss: 0.9887 - accuracy: 0.6426 - val_loss: 1.3357 - val_accuracy: 0.5404\n",
            "Epoch 18/50\n",
            "157/157 [==============================] - 9s 56ms/step - loss: 0.9712 - accuracy: 0.6526 - val_loss: 1.3599 - val_accuracy: 0.5462\n",
            "Epoch 19/50\n",
            "157/157 [==============================] - 10s 62ms/step - loss: 0.9443 - accuracy: 0.6538 - val_loss: 1.2812 - val_accuracy: 0.5602\n",
            "Epoch 20/50\n",
            "157/157 [==============================] - 8s 53ms/step - loss: 0.9137 - accuracy: 0.6684 - val_loss: 1.1937 - val_accuracy: 0.5822\n",
            "Epoch 21/50\n",
            "157/157 [==============================] - 10s 61ms/step - loss: 0.9036 - accuracy: 0.6722 - val_loss: 1.3248 - val_accuracy: 0.5620\n",
            "Epoch 22/50\n",
            "157/157 [==============================] - 8s 51ms/step - loss: 0.8846 - accuracy: 0.6846 - val_loss: 1.3283 - val_accuracy: 0.5508\n",
            "Epoch 23/50\n",
            "157/157 [==============================] - 10s 61ms/step - loss: 0.8428 - accuracy: 0.6982 - val_loss: 1.2167 - val_accuracy: 0.5882\n",
            "Epoch 24/50\n",
            "157/157 [==============================] - 9s 56ms/step - loss: 0.8116 - accuracy: 0.7128 - val_loss: 1.2954 - val_accuracy: 0.5674\n",
            "Epoch 25/50\n",
            "157/157 [==============================] - 8s 53ms/step - loss: 0.8082 - accuracy: 0.7138 - val_loss: 1.2366 - val_accuracy: 0.5730\n",
            "Epoch 26/50\n",
            "157/157 [==============================] - 8s 48ms/step - loss: 0.7911 - accuracy: 0.7184 - val_loss: 1.2460 - val_accuracy: 0.5764\n",
            "Epoch 27/50\n",
            "157/157 [==============================] - 7s 47ms/step - loss: 0.7770 - accuracy: 0.7292 - val_loss: 1.2618 - val_accuracy: 0.5820\n",
            "Epoch 28/50\n",
            "157/157 [==============================] - 9s 60ms/step - loss: 0.7652 - accuracy: 0.7204 - val_loss: 1.2336 - val_accuracy: 0.5880\n",
            "Epoch 29/50\n",
            "157/157 [==============================] - 9s 56ms/step - loss: 0.7465 - accuracy: 0.7298 - val_loss: 1.3378 - val_accuracy: 0.5612\n",
            "Epoch 30/50\n",
            "157/157 [==============================] - 9s 57ms/step - loss: 0.7220 - accuracy: 0.7456 - val_loss: 1.3138 - val_accuracy: 0.5862\n",
            "Epoch 31/50\n",
            "157/157 [==============================] - 7s 48ms/step - loss: 0.6915 - accuracy: 0.7492 - val_loss: 1.2975 - val_accuracy: 0.5624\n",
            "Epoch 32/50\n",
            "157/157 [==============================] - 8s 53ms/step - loss: 0.7100 - accuracy: 0.7408 - val_loss: 1.2465 - val_accuracy: 0.6004\n",
            "Epoch 33/50\n",
            "157/157 [==============================] - 8s 49ms/step - loss: 0.6843 - accuracy: 0.7512 - val_loss: 1.2108 - val_accuracy: 0.6006\n",
            "Epoch 34/50\n",
            "157/157 [==============================] - 9s 56ms/step - loss: 0.6873 - accuracy: 0.7594 - val_loss: 1.2095 - val_accuracy: 0.6040\n",
            "Epoch 35/50\n",
            "157/157 [==============================] - 8s 50ms/step - loss: 0.6808 - accuracy: 0.7522 - val_loss: 1.5856 - val_accuracy: 0.5398\n",
            "Epoch 36/50\n",
            "157/157 [==============================] - 8s 48ms/step - loss: 0.6472 - accuracy: 0.7646 - val_loss: 1.2932 - val_accuracy: 0.5856\n",
            "Epoch 37/50\n",
            "157/157 [==============================] - 8s 49ms/step - loss: 0.6546 - accuracy: 0.7672 - val_loss: 1.3869 - val_accuracy: 0.5724\n",
            "Epoch 38/50\n",
            "157/157 [==============================] - 9s 57ms/step - loss: 0.6359 - accuracy: 0.7796 - val_loss: 1.3283 - val_accuracy: 0.5772\n",
            "Epoch 39/50\n",
            "157/157 [==============================] - 9s 56ms/step - loss: 0.6194 - accuracy: 0.7860 - val_loss: 1.4793 - val_accuracy: 0.5540\n",
            "Epoch 40/50\n",
            "157/157 [==============================] - 11s 69ms/step - loss: 0.6107 - accuracy: 0.7880 - val_loss: 1.3102 - val_accuracy: 0.5890\n",
            "Epoch 41/50\n",
            "157/157 [==============================] - 10s 62ms/step - loss: 0.5874 - accuracy: 0.7878 - val_loss: 1.2751 - val_accuracy: 0.5936\n",
            "Epoch 42/50\n",
            "157/157 [==============================] - 10s 61ms/step - loss: 0.5928 - accuracy: 0.7866 - val_loss: 1.4022 - val_accuracy: 0.5858\n",
            "Epoch 43/50\n",
            "157/157 [==============================] - 8s 53ms/step - loss: 0.5745 - accuracy: 0.7898 - val_loss: 1.2587 - val_accuracy: 0.6074\n",
            "Epoch 44/50\n",
            "157/157 [==============================] - 8s 53ms/step - loss: 0.5731 - accuracy: 0.7894 - val_loss: 1.3439 - val_accuracy: 0.5836\n",
            "Epoch 45/50\n",
            "157/157 [==============================] - 8s 53ms/step - loss: 0.5889 - accuracy: 0.7880 - val_loss: 1.3895 - val_accuracy: 0.5824\n",
            "Epoch 46/50\n",
            "157/157 [==============================] - 9s 56ms/step - loss: 0.5412 - accuracy: 0.8056 - val_loss: 1.4542 - val_accuracy: 0.5696\n",
            "Epoch 47/50\n",
            "157/157 [==============================] - 9s 56ms/step - loss: 0.5591 - accuracy: 0.8040 - val_loss: 1.3443 - val_accuracy: 0.5856\n",
            "Epoch 48/50\n",
            "157/157 [==============================] - 8s 49ms/step - loss: 0.5513 - accuracy: 0.8000 - val_loss: 1.3201 - val_accuracy: 0.5972\n",
            "Epoch 49/50\n",
            "157/157 [==============================] - 8s 53ms/step - loss: 0.5012 - accuracy: 0.8190 - val_loss: 1.7370 - val_accuracy: 0.5226\n",
            "Epoch 50/50\n",
            "157/157 [==============================] - 9s 56ms/step - loss: 0.5198 - accuracy: 0.8050 - val_loss: 1.4134 - val_accuracy: 0.5812\n"
          ]
        }
      ]
    },
    {
      "cell_type": "code",
      "source": [
        "filter1=24\n",
        "filter2=36\n",
        "filter3=48\n",
        "filter4=64\n",
        "kernel_size=3\n",
        "dropout = 0.65\n",
        "\n",
        "inputs = Input(shape=(32, 32, 3))\n",
        "\n",
        "y = Conv2D(filters=filter1,kernel_size=kernel_size,activation='relu', padding='same', kernel_initializer='he_normal')(inputs)\n",
        "y = MaxPooling2D()(y)\n",
        "#y=BatchNormalization()(y)\n",
        "\n",
        "y = Conv2D(filters=filter2,kernel_size=kernel_size,activation='relu', padding='same', kernel_initializer='he_normal')(y)\n",
        "y = MaxPooling2D()(y)\n",
        "#y=BatchNormalization()(y)\n",
        "\n",
        "\n",
        "y = Conv2D(filters=filter3,kernel_size=kernel_size,activation='relu', padding='same', kernel_initializer='he_normal')(y)\n",
        "y = MaxPooling2D()(y)\n",
        "#y=BatchNormalization()(y)\n",
        "\n",
        "\n",
        "#y = Conv2D(filters=filter4,kernel_size=kernel_size,activation='relu', padding='same', kernel_initializer='he_normal')(y)\n",
        "y=BatchNormalization()(y)\n",
        "\n",
        "y = Flatten()(y)\n",
        "\n",
        "y = Dropout(dropout)(y)\n",
        "outputs = Dense(10, activation='softmax')(y)\n",
        "model1 = Model(inputs=inputs, outputs=outputs)"
      ],
      "metadata": {
        "id": "qmQllkq_Zhm-"
      },
      "execution_count": 38,
      "outputs": []
    },
    {
      "cell_type": "code",
      "source": [
        "model1.compile(optimizer='adam',loss=\"categorical_crossentropy\", metrics=[\"accuracy\"],)"
      ],
      "metadata": {
        "id": "N_3tNlAbZ-se"
      },
      "execution_count": 39,
      "outputs": []
    },
    {
      "cell_type": "code",
      "source": [
        "history1 = model1.fit(train_set,validation_data=val_set,epochs=50,)"
      ],
      "metadata": {
        "colab": {
          "base_uri": "https://localhost:8080/"
        },
        "id": "y92gMiXOaQzy",
        "outputId": "41086559-2330-4f0c-971d-bb8fc5d8a0cb"
      },
      "execution_count": 40,
      "outputs": [
        {
          "output_type": "stream",
          "name": "stdout",
          "text": [
            "Epoch 1/50\n",
            "157/157 [==============================] - 9s 50ms/step - loss: 2.7493 - accuracy: 0.1900 - val_loss: 1.8735 - val_accuracy: 0.3490\n",
            "Epoch 2/50\n",
            "157/157 [==============================] - 9s 55ms/step - loss: 2.0834 - accuracy: 0.2970 - val_loss: 1.6749 - val_accuracy: 0.4088\n",
            "Epoch 3/50\n",
            "157/157 [==============================] - 10s 64ms/step - loss: 1.8259 - accuracy: 0.3512 - val_loss: 1.6251 - val_accuracy: 0.4142\n",
            "Epoch 4/50\n",
            "157/157 [==============================] - 11s 69ms/step - loss: 1.6479 - accuracy: 0.4046 - val_loss: 1.5336 - val_accuracy: 0.4574\n",
            "Epoch 5/50\n",
            "157/157 [==============================] - 7s 47ms/step - loss: 1.5702 - accuracy: 0.4292 - val_loss: 1.4202 - val_accuracy: 0.4910\n",
            "Epoch 6/50\n",
            "157/157 [==============================] - 8s 53ms/step - loss: 1.4877 - accuracy: 0.4620 - val_loss: 1.4434 - val_accuracy: 0.4728\n",
            "Epoch 7/50\n",
            "157/157 [==============================] - 10s 61ms/step - loss: 1.4164 - accuracy: 0.4908 - val_loss: 1.4992 - val_accuracy: 0.4580\n",
            "Epoch 8/50\n",
            "157/157 [==============================] - 8s 53ms/step - loss: 1.3888 - accuracy: 0.5008 - val_loss: 1.3427 - val_accuracy: 0.5106\n",
            "Epoch 9/50\n",
            "157/157 [==============================] - 8s 51ms/step - loss: 1.3595 - accuracy: 0.5144 - val_loss: 1.5713 - val_accuracy: 0.4612\n",
            "Epoch 10/50\n",
            "157/157 [==============================] - 8s 53ms/step - loss: 1.3345 - accuracy: 0.5184 - val_loss: 1.3095 - val_accuracy: 0.5346\n",
            "Epoch 11/50\n",
            "157/157 [==============================] - 9s 60ms/step - loss: 1.2874 - accuracy: 0.5408 - val_loss: 1.2978 - val_accuracy: 0.5360\n",
            "Epoch 12/50\n",
            "157/157 [==============================] - 10s 61ms/step - loss: 1.2711 - accuracy: 0.5458 - val_loss: 1.4529 - val_accuracy: 0.4846\n",
            "Epoch 13/50\n",
            "157/157 [==============================] - 11s 69ms/step - loss: 1.2449 - accuracy: 0.5558 - val_loss: 1.2808 - val_accuracy: 0.5330\n",
            "Epoch 14/50\n",
            "157/157 [==============================] - 7s 47ms/step - loss: 1.2145 - accuracy: 0.5666 - val_loss: 1.3464 - val_accuracy: 0.4956\n",
            "Epoch 15/50\n",
            "157/157 [==============================] - 8s 51ms/step - loss: 1.1884 - accuracy: 0.5736 - val_loss: 1.1843 - val_accuracy: 0.5768\n",
            "Epoch 16/50\n",
            "157/157 [==============================] - 10s 61ms/step - loss: 1.1581 - accuracy: 0.5854 - val_loss: 1.4457 - val_accuracy: 0.5222\n",
            "Epoch 17/50\n",
            "157/157 [==============================] - 9s 55ms/step - loss: 1.1339 - accuracy: 0.5906 - val_loss: 1.3440 - val_accuracy: 0.5338\n",
            "Epoch 18/50\n",
            "157/157 [==============================] - 8s 53ms/step - loss: 1.1384 - accuracy: 0.5958 - val_loss: 1.1994 - val_accuracy: 0.5746\n",
            "Epoch 19/50\n",
            "157/157 [==============================] - 7s 47ms/step - loss: 1.1013 - accuracy: 0.6020 - val_loss: 1.3219 - val_accuracy: 0.5310\n",
            "Epoch 20/50\n",
            "157/157 [==============================] - 10s 61ms/step - loss: 1.0987 - accuracy: 0.6050 - val_loss: 1.7759 - val_accuracy: 0.4588\n",
            "Epoch 21/50\n",
            "157/157 [==============================] - 10s 62ms/step - loss: 1.1132 - accuracy: 0.5972 - val_loss: 1.1807 - val_accuracy: 0.5682\n",
            "Epoch 22/50\n",
            "157/157 [==============================] - 8s 53ms/step - loss: 1.0824 - accuracy: 0.6046 - val_loss: 1.1950 - val_accuracy: 0.5708\n",
            "Epoch 23/50\n",
            "157/157 [==============================] - 7s 48ms/step - loss: 1.0659 - accuracy: 0.6178 - val_loss: 1.4789 - val_accuracy: 0.4968\n",
            "Epoch 24/50\n",
            "157/157 [==============================] - 9s 55ms/step - loss: 1.0384 - accuracy: 0.6258 - val_loss: 1.9325 - val_accuracy: 0.4202\n",
            "Epoch 25/50\n",
            "157/157 [==============================] - 10s 61ms/step - loss: 1.0278 - accuracy: 0.6296 - val_loss: 1.2145 - val_accuracy: 0.5698\n",
            "Epoch 26/50\n",
            "157/157 [==============================] - 9s 56ms/step - loss: 1.0116 - accuracy: 0.6376 - val_loss: 1.1350 - val_accuracy: 0.5968\n",
            "Epoch 27/50\n",
            "157/157 [==============================] - 8s 53ms/step - loss: 0.9979 - accuracy: 0.6356 - val_loss: 1.1324 - val_accuracy: 0.5998\n",
            "Epoch 28/50\n",
            "157/157 [==============================] - 8s 53ms/step - loss: 0.9806 - accuracy: 0.6468 - val_loss: 1.3262 - val_accuracy: 0.5546\n",
            "Epoch 29/50\n",
            "157/157 [==============================] - 9s 56ms/step - loss: 0.9685 - accuracy: 0.6554 - val_loss: 1.2400 - val_accuracy: 0.5728\n",
            "Epoch 30/50\n",
            "157/157 [==============================] - 9s 56ms/step - loss: 0.9461 - accuracy: 0.6650 - val_loss: 1.2888 - val_accuracy: 0.5530\n",
            "Epoch 31/50\n",
            "157/157 [==============================] - 11s 69ms/step - loss: 0.9439 - accuracy: 0.6586 - val_loss: 1.1281 - val_accuracy: 0.6030\n",
            "Epoch 32/50\n",
            "157/157 [==============================] - 7s 47ms/step - loss: 0.9323 - accuracy: 0.6628 - val_loss: 1.1685 - val_accuracy: 0.5904\n",
            "Epoch 33/50\n",
            "157/157 [==============================] - 8s 52ms/step - loss: 0.9181 - accuracy: 0.6752 - val_loss: 1.1492 - val_accuracy: 0.6024\n",
            "Epoch 34/50\n",
            "157/157 [==============================] - 10s 61ms/step - loss: 0.8981 - accuracy: 0.6728 - val_loss: 1.2575 - val_accuracy: 0.5800\n",
            "Epoch 35/50\n",
            "157/157 [==============================] - 9s 59ms/step - loss: 0.8923 - accuracy: 0.6830 - val_loss: 1.1462 - val_accuracy: 0.5964\n",
            "Epoch 36/50\n",
            "157/157 [==============================] - 8s 53ms/step - loss: 0.8874 - accuracy: 0.6830 - val_loss: 1.3287 - val_accuracy: 0.5642\n",
            "Epoch 37/50\n",
            "157/157 [==============================] - 8s 53ms/step - loss: 0.8732 - accuracy: 0.6926 - val_loss: 1.1924 - val_accuracy: 0.5948\n",
            "Epoch 38/50\n",
            "157/157 [==============================] - 10s 61ms/step - loss: 0.8573 - accuracy: 0.6942 - val_loss: 1.2239 - val_accuracy: 0.5886\n",
            "Epoch 39/50\n",
            "157/157 [==============================] - 11s 68ms/step - loss: 0.8602 - accuracy: 0.6878 - val_loss: 1.1927 - val_accuracy: 0.5828\n",
            "Epoch 40/50\n",
            "157/157 [==============================] - 8s 53ms/step - loss: 0.8684 - accuracy: 0.6878 - val_loss: 1.2695 - val_accuracy: 0.5714\n",
            "Epoch 41/50\n",
            "157/157 [==============================] - 9s 56ms/step - loss: 0.8332 - accuracy: 0.6960 - val_loss: 1.1721 - val_accuracy: 0.6004\n",
            "Epoch 42/50\n",
            "157/157 [==============================] - 12s 76ms/step - loss: 0.8250 - accuracy: 0.7074 - val_loss: 1.1520 - val_accuracy: 0.6042\n",
            "Epoch 43/50\n",
            "157/157 [==============================] - 8s 53ms/step - loss: 0.8113 - accuracy: 0.7046 - val_loss: 1.5275 - val_accuracy: 0.5236\n",
            "Epoch 44/50\n",
            "157/157 [==============================] - 7s 47ms/step - loss: 0.8286 - accuracy: 0.7070 - val_loss: 1.2611 - val_accuracy: 0.5854\n",
            "Epoch 45/50\n",
            "157/157 [==============================] - 9s 54ms/step - loss: 0.8187 - accuracy: 0.6972 - val_loss: 1.2582 - val_accuracy: 0.5792\n",
            "Epoch 46/50\n",
            "157/157 [==============================] - 10s 61ms/step - loss: 0.7917 - accuracy: 0.7146 - val_loss: 1.1845 - val_accuracy: 0.5980\n",
            "Epoch 47/50\n",
            "157/157 [==============================] - 9s 59ms/step - loss: 0.7953 - accuracy: 0.7184 - val_loss: 1.1181 - val_accuracy: 0.6172\n",
            "Epoch 48/50\n",
            "157/157 [==============================] - 8s 53ms/step - loss: 0.8200 - accuracy: 0.7112 - val_loss: 1.2072 - val_accuracy: 0.5984\n",
            "Epoch 49/50\n",
            "157/157 [==============================] - 7s 48ms/step - loss: 0.7910 - accuracy: 0.7142 - val_loss: 1.3485 - val_accuracy: 0.5678\n",
            "Epoch 50/50\n",
            "157/157 [==============================] - 8s 54ms/step - loss: 0.7527 - accuracy: 0.7318 - val_loss: 1.1716 - val_accuracy: 0.6110\n"
          ]
        }
      ]
    },
    {
      "cell_type": "code",
      "source": [
        "loss_t1, acc_t1 = model1.evaluate(test_set)"
      ],
      "metadata": {
        "colab": {
          "base_uri": "https://localhost:8080/"
        },
        "id": "UgK9u-S6MnmQ",
        "outputId": "9a72096f-6bb2-4e98-9b9d-e1bafc7623b3"
      },
      "execution_count": 41,
      "outputs": [
        {
          "output_type": "stream",
          "name": "stdout",
          "text": [
            "313/313 [==============================] - 4s 12ms/step - loss: 1.1966 - accuracy: 0.5983\n"
          ]
        }
      ]
    },
    {
      "cell_type": "code",
      "source": [
        "fig, ax = plt.subplots(figsize=(7, 4))\n",
        "plt.plot(history.history['accuracy'])\n",
        "plt.plot(history.history['val_accuracy'])\n",
        "plt.legend(['train_accuracy', 'val_accuracy'], loc='upper left')"
      ],
      "metadata": {
        "colab": {
          "base_uri": "https://localhost:8080/",
          "height": 385
        },
        "id": "JtxViLDeMqZ_",
        "outputId": "524967a8-80f7-4bbb-9646-571358a0309a"
      },
      "execution_count": 44,
      "outputs": [
        {
          "output_type": "execute_result",
          "data": {
            "text/plain": [
              "<matplotlib.legend.Legend at 0x7d2fa077a6b0>"
            ]
          },
          "metadata": {},
          "execution_count": 44
        },
        {
          "output_type": "display_data",
          "data": {
            "text/plain": [
              "<Figure size 700x400 with 1 Axes>"
            ],
            "image/png": "[encoded data removed]"
          },
          "metadata": {}
        }
      ]
    },
    {
      "cell_type": "code",
      "source": [
        "fig, ax = plt.subplots(figsize=(7, 4))\n",
        "plt.plot(history1.history['accuracy'])\n",
        "plt.plot(history1.history['val_accuracy'])\n",
        "plt.legend(['train_accuracy', 'val_accuracy'], loc='upper left')"
      ],
      "metadata": {
        "colab": {
          "base_uri": "https://localhost:8080/",
          "height": 385
        },
        "id": "FUIXBgFicjEp",
        "outputId": "562844f9-98c0-4d87-c7b8-013e571605c1"
      },
      "execution_count": 43,
      "outputs": [
        {
          "output_type": "execute_result",
          "data": {
            "text/plain": [
              "<matplotlib.legend.Legend at 0x7d2fa05c26e0>"
            ]
          },
          "metadata": {},
          "execution_count": 43
        },
        {
          "output_type": "display_data",
          "data": {
            "text/plain": [
              "<Figure size 700x400 with 1 Axes>"
            ],
            "image/png": "[encoded data removed]"
          },
          "metadata": {}
        }
      ]
    }
  ]
}